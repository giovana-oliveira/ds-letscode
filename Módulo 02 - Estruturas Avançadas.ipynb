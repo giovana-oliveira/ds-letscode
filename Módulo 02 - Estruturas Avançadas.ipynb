{
 "cells": [
  {
   "cell_type": "markdown",
   "id": "7dc5754a",
   "metadata": {},
   "source": [
    "### Aula 1 - Listas e Tuplas"
   ]
  },
  {
   "cell_type": "code",
   "execution_count": 1,
   "id": "9b314c26",
   "metadata": {},
   "outputs": [
    {
     "name": "stdout",
     "output_type": "stream",
     "text": [
      "['Brasil', 'Argentina', 'China', 'Canadá', 'Japão']\n"
     ]
    }
   ],
   "source": [
    "nomes_paises = ['Brasil', 'Argentina', 'China', 'Canadá', 'Japão']\n",
    "print(nomes_paises)"
   ]
  },
  {
   "cell_type": "code",
   "execution_count": 3,
   "id": "ad93c364",
   "metadata": {},
   "outputs": [
    {
     "name": "stdout",
     "output_type": "stream",
     "text": [
      "Tamanho da lista: 5\n"
     ]
    }
   ],
   "source": [
    "print('Tamanho da lista:', len(nomes_paises))"
   ]
  },
  {
   "cell_type": "code",
   "execution_count": 4,
   "id": "63f3114d",
   "metadata": {},
   "outputs": [
    {
     "name": "stdout",
     "output_type": "stream",
     "text": [
      "País: Japão\n"
     ]
    }
   ],
   "source": [
    "print('País:', nomes_paises[4])"
   ]
  },
  {
   "cell_type": "code",
   "execution_count": 5,
   "id": "266ac8df",
   "metadata": {},
   "outputs": [
    {
     "name": "stdout",
     "output_type": "stream",
     "text": [
      "País: Japão\n"
     ]
    }
   ],
   "source": [
    "print('País:', nomes_paises[-1])"
   ]
  },
  {
   "cell_type": "code",
   "execution_count": 8,
   "id": "dbed2c0d",
   "metadata": {},
   "outputs": [
    {
     "name": "stdout",
     "output_type": "stream",
     "text": [
      "Colômbia\n",
      "['Brasil', 'Argentina', 'China', 'Canadá', 'Colômbia']\n"
     ]
    }
   ],
   "source": [
    "nomes_paises[4] = 'Colômbia'\n",
    "print(nomes_paises[4])\n",
    "print(nomes_paises)"
   ]
  },
  {
   "cell_type": "code",
   "execution_count": 9,
   "id": "b5464e53",
   "metadata": {},
   "outputs": [
    {
     "ename": "IndexError",
     "evalue": "list assignment index out of range",
     "output_type": "error",
     "traceback": [
      "\u001b[1;31m---------------------------------------------------------------------------\u001b[0m",
      "\u001b[1;31mIndexError\u001b[0m                                Traceback (most recent call last)",
      "\u001b[1;32m~\\AppData\\Local\\Temp/ipykernel_7976/259509551.py\u001b[0m in \u001b[0;36m<module>\u001b[1;34m\u001b[0m\n\u001b[1;32m----> 1\u001b[1;33m \u001b[0mnomes_paises\u001b[0m\u001b[1;33m[\u001b[0m\u001b[1;36m5\u001b[0m\u001b[1;33m]\u001b[0m \u001b[1;33m=\u001b[0m \u001b[1;34m'Chile'\u001b[0m\u001b[1;33m\u001b[0m\u001b[1;33m\u001b[0m\u001b[0m\n\u001b[0m",
      "\u001b[1;31mIndexError\u001b[0m: list assignment index out of range"
     ]
    }
   ],
   "source": [
    "nomes_paises[5] = 'Chile'"
   ]
  },
  {
   "cell_type": "code",
   "execution_count": 10,
   "id": "325ea922",
   "metadata": {},
   "outputs": [
    {
     "name": "stdout",
     "output_type": "stream",
     "text": [
      "['Argentina', 'China']\n"
     ]
    }
   ],
   "source": [
    "print(nomes_paises[1:3])"
   ]
  },
  {
   "cell_type": "code",
   "execution_count": 11,
   "id": "840160f2",
   "metadata": {},
   "outputs": [
    {
     "name": "stdout",
     "output_type": "stream",
     "text": [
      "['Argentina', 'China', 'Canadá']\n"
     ]
    }
   ],
   "source": [
    "print(nomes_paises[1:-1])"
   ]
  },
  {
   "cell_type": "code",
   "execution_count": 13,
   "id": "e4990ab5",
   "metadata": {},
   "outputs": [
    {
     "name": "stdout",
     "output_type": "stream",
     "text": [
      "['China', 'Canadá', 'Colômbia']\n"
     ]
    }
   ],
   "source": [
    "print(nomes_paises[2:])"
   ]
  },
  {
   "cell_type": "code",
   "execution_count": 14,
   "id": "c9ca37ba",
   "metadata": {},
   "outputs": [
    {
     "name": "stdout",
     "output_type": "stream",
     "text": [
      "['Brasil', 'Argentina', 'China']\n"
     ]
    }
   ],
   "source": [
    "print(nomes_paises[:3])"
   ]
  },
  {
   "cell_type": "code",
   "execution_count": 15,
   "id": "400a15b5",
   "metadata": {},
   "outputs": [
    {
     "name": "stdout",
     "output_type": "stream",
     "text": [
      "['Brasil', 'Argentina', 'China', 'Canadá', 'Colômbia']\n"
     ]
    }
   ],
   "source": [
    "print(nomes_paises[:])"
   ]
  },
  {
   "cell_type": "code",
   "execution_count": 20,
   "id": "0082982f",
   "metadata": {},
   "outputs": [
    {
     "name": "stdout",
     "output_type": "stream",
     "text": [
      "['Brasil', 'China', 'Colômbia']\n"
     ]
    }
   ],
   "source": [
    "print(nomes_paises[::2])"
   ]
  },
  {
   "cell_type": "code",
   "execution_count": 21,
   "id": "4df26d04",
   "metadata": {},
   "outputs": [
    {
     "name": "stdout",
     "output_type": "stream",
     "text": [
      "['Colômbia', 'Canadá', 'China', 'Argentina', 'Brasil']\n"
     ]
    }
   ],
   "source": [
    "print(nomes_paises[::-1])"
   ]
  },
  {
   "cell_type": "code",
   "execution_count": 22,
   "id": "d03e05a9",
   "metadata": {},
   "outputs": [
    {
     "name": "stdout",
     "output_type": "stream",
     "text": [
      "True\n"
     ]
    }
   ],
   "source": [
    "print('Brasil' in nomes_paises)"
   ]
  },
  {
   "cell_type": "code",
   "execution_count": 23,
   "id": "38bbea59",
   "metadata": {},
   "outputs": [
    {
     "name": "stdout",
     "output_type": "stream",
     "text": [
      "False\n"
     ]
    }
   ],
   "source": [
    "print('Canadá' not in nomes_paises)"
   ]
  },
  {
   "cell_type": "code",
   "execution_count": 26,
   "id": "e7396e93",
   "metadata": {},
   "outputs": [],
   "source": [
    "lista_capitais = []"
   ]
  },
  {
   "cell_type": "code",
   "execution_count": 27,
   "id": "55d69da0",
   "metadata": {},
   "outputs": [
    {
     "name": "stdout",
     "output_type": "stream",
     "text": [
      "['Brasília', 'Pequim', 'Bogotá', 'Buenos Aires']\n"
     ]
    }
   ],
   "source": [
    "lista_capitais.append('Brasília')\n",
    "lista_capitais.append('Pequim')\n",
    "lista_capitais.append('Bogotá')\n",
    "lista_capitais.append('Buenos Aires')\n",
    "\n",
    "print(lista_capitais)"
   ]
  },
  {
   "cell_type": "code",
   "execution_count": 30,
   "id": "ea5a0d70",
   "metadata": {},
   "outputs": [
    {
     "name": "stdout",
     "output_type": "stream",
     "text": [
      "['Brasília', 'Pequim', 'Paris', 'Bogotá', 'Buenos Aires']\n"
     ]
    }
   ],
   "source": [
    "lista_capitais.insert(2, 'Paris')\n",
    "\n",
    "print(lista_capitais)"
   ]
  },
  {
   "cell_type": "code",
   "execution_count": 31,
   "id": "2a4fb6ea",
   "metadata": {},
   "outputs": [
    {
     "name": "stdout",
     "output_type": "stream",
     "text": [
      "['Brasília', 'Pequim', 'Paris', 'Bogotá']\n"
     ]
    }
   ],
   "source": [
    "lista_capitais.remove('Buenos Aires')\n",
    "\n",
    "print(lista_capitais)"
   ]
  },
  {
   "cell_type": "code",
   "execution_count": 32,
   "id": "6ae3091b",
   "metadata": {},
   "outputs": [
    {
     "name": "stdout",
     "output_type": "stream",
     "text": [
      "['Brasília', 'Pequim', 'Bogotá'] Paris\n"
     ]
    }
   ],
   "source": [
    "removido = lista_capitais.pop(2)\n",
    "\n",
    "print(lista_capitais, removido)"
   ]
  },
  {
   "cell_type": "code",
   "execution_count": 34,
   "id": "7a1aad6f",
   "metadata": {},
   "outputs": [
    {
     "name": "stdout",
     "output_type": "stream",
     "text": [
      "('Brasil', 'Argentina', 'China', 'Canadá', 'Japão') <class 'tuple'>\n"
     ]
    }
   ],
   "source": [
    "nomes_paises = ('Brasil', 'Argentina', 'China', 'Canadá', 'Japão')\n",
    "print(nomes_paises, type(nomes_paises))"
   ]
  },
  {
   "cell_type": "code",
   "execution_count": 35,
   "id": "a6e0be65",
   "metadata": {},
   "outputs": [
    {
     "name": "stdout",
     "output_type": "stream",
     "text": [
      "('Brasil', 'Argentina', 'China', 'Canadá', 'Japão') <class 'tuple'>\n"
     ]
    }
   ],
   "source": [
    "nomes_paises = 'Brasil', 'Argentina', 'China', 'Canadá', 'Japão'\n",
    "print(nomes_paises, type(nomes_paises))"
   ]
  },
  {
   "cell_type": "code",
   "execution_count": 37,
   "id": "08751608",
   "metadata": {},
   "outputs": [
    {
     "name": "stdout",
     "output_type": "stream",
     "text": [
      "<class 'tuple'>\n"
     ]
    }
   ],
   "source": [
    "numeros = 1,\n",
    "print(type(numeros))"
   ]
  },
  {
   "cell_type": "code",
   "execution_count": 39,
   "id": "639cab1f",
   "metadata": {},
   "outputs": [
    {
     "name": "stdout",
     "output_type": "stream",
     "text": [
      "('Belém',) <class 'tuple'>\n"
     ]
    }
   ],
   "source": [
    "nome_estado = 'Belém',\n",
    "print(nome_estado, type(nome_estado))"
   ]
  },
  {
   "cell_type": "code",
   "execution_count": 40,
   "id": "55e4770b",
   "metadata": {},
   "outputs": [
    {
     "data": {
      "text/plain": [
       "5"
      ]
     },
     "execution_count": 40,
     "metadata": {},
     "output_type": "execute_result"
    }
   ],
   "source": [
    "len(nomes_paises)"
   ]
  },
  {
   "cell_type": "code",
   "execution_count": 41,
   "id": "d0898090",
   "metadata": {},
   "outputs": [
    {
     "data": {
      "text/plain": [
       "'Brasil'"
      ]
     },
     "execution_count": 41,
     "metadata": {},
     "output_type": "execute_result"
    }
   ],
   "source": [
    "nomes_paises[0]"
   ]
  },
  {
   "cell_type": "code",
   "execution_count": 42,
   "id": "dcaddf1e",
   "metadata": {},
   "outputs": [
    {
     "name": "stdout",
     "output_type": "stream",
     "text": [
      "Brasil China Japão\n"
     ]
    }
   ],
   "source": [
    "b, a, c, ca, j = nomes_paises\n",
    "print(b, c, j)"
   ]
  },
  {
   "cell_type": "code",
   "execution_count": 44,
   "id": "b5b21027",
   "metadata": {},
   "outputs": [
    {
     "name": "stdout",
     "output_type": "stream",
     "text": [
      "Brasil Argentina China Canadá Japão\n"
     ]
    }
   ],
   "source": [
    "print(*nomes_paises)"
   ]
  },
  {
   "cell_type": "markdown",
   "id": "adde0276",
   "metadata": {},
   "source": [
    "### Aula 2 - Strings I"
   ]
  },
  {
   "cell_type": "code",
   "execution_count": 45,
   "id": "85f2ef7a",
   "metadata": {},
   "outputs": [
    {
     "name": "stdout",
     "output_type": "stream",
     "text": [
      "Google\n"
     ]
    }
   ],
   "source": [
    "empresa = 'Google'\n",
    "print(empresa)"
   ]
  },
  {
   "cell_type": "code",
   "execution_count": 46,
   "id": "5fa02566",
   "metadata": {},
   "outputs": [
    {
     "name": "stdout",
     "output_type": "stream",
     "text": [
      "Google\n"
     ]
    }
   ],
   "source": [
    "empresa = \"Google\"\n",
    "print(empresa)"
   ]
  },
  {
   "cell_type": "code",
   "execution_count": 47,
   "id": "bc349157",
   "metadata": {},
   "outputs": [
    {
     "ename": "SyntaxError",
     "evalue": "invalid syntax (Temp/ipykernel_7976/2163815922.py, line 1)",
     "output_type": "error",
     "traceback": [
      "\u001b[1;36m  File \u001b[1;32m\"C:\\Users\\felis\\AppData\\Local\\Temp/ipykernel_7976/2163815922.py\"\u001b[1;36m, line \u001b[1;32m1\u001b[0m\n\u001b[1;33m    empresa = 'Let's Code'\u001b[0m\n\u001b[1;37m                   ^\u001b[0m\n\u001b[1;31mSyntaxError\u001b[0m\u001b[1;31m:\u001b[0m invalid syntax\n"
     ]
    }
   ],
   "source": [
    "empresa = 'Let's Code'"
   ]
  },
  {
   "cell_type": "code",
   "execution_count": 48,
   "id": "4caf63a3",
   "metadata": {},
   "outputs": [
    {
     "name": "stdout",
     "output_type": "stream",
     "text": [
      "Let's Code\n"
     ]
    }
   ],
   "source": [
    "empresa = \"Let's Code\"\n",
    "print(empresa)"
   ]
  },
  {
   "cell_type": "code",
   "execution_count": 49,
   "id": "f2619563",
   "metadata": {},
   "outputs": [
    {
     "name": "stdout",
     "output_type": "stream",
     "text": [
      "O professor Pietro da Let's Code disse: \"Hoje a pizza é por minha conta\"\n"
     ]
    }
   ],
   "source": [
    "frase = \"O professor Pietro da Let's Code disse: \\\"Hoje a pizza é por minha conta\\\"\"\n",
    "print(frase)"
   ]
  },
  {
   "cell_type": "code",
   "execution_count": 51,
   "id": "2a68c420",
   "metadata": {},
   "outputs": [
    {
     "name": "stdout",
     "output_type": "stream",
     "text": [
      "G\n"
     ]
    }
   ],
   "source": [
    "empresa = 'Google'\n",
    "print(empresa[0])"
   ]
  },
  {
   "cell_type": "code",
   "execution_count": 52,
   "id": "5189d71f",
   "metadata": {},
   "outputs": [
    {
     "name": "stdout",
     "output_type": "stream",
     "text": [
      "Goo\n"
     ]
    }
   ],
   "source": [
    "print(empresa[:3])"
   ]
  },
  {
   "cell_type": "code",
   "execution_count": 56,
   "id": "e8d4c52d",
   "metadata": {},
   "outputs": [
    {
     "name": "stdout",
     "output_type": "stream",
     "text": [
      "['São Paulo', 'Belo Horizonte', 'Rio de Janeiro', 'Brasília']\n"
     ]
    }
   ],
   "source": [
    "nomes_cidades = 'São Paulo, Belo Horizonte, Rio de Janeiro, Brasília'\n",
    "nomes_cidades = nomes_cidades.split(', ')\n",
    "print(nomes_cidades)"
   ]
  },
  {
   "cell_type": "code",
   "execution_count": 60,
   "id": "abf6ae4c",
   "metadata": {},
   "outputs": [
    {
     "name": "stdout",
     "output_type": "stream",
     "text": [
      "MENU PRINCIPAL\n"
     ]
    }
   ],
   "source": [
    "cabecalho = \"                   MENU PRINCIPAL                  \"\n",
    "print(cabecalho.strip())"
   ]
  },
  {
   "cell_type": "code",
   "execution_count": 65,
   "id": "85d6ca4e",
   "metadata": {},
   "outputs": [
    {
     "name": "stdout",
     "output_type": "stream",
     "text": [
      "Rio De Janeiro\n",
      "Rio de janeiro\n",
      "rio de janeiro\n",
      "RIO DE JANEIRO\n"
     ]
    }
   ],
   "source": [
    "cidade = \"riO dE janeirO\"\n",
    "print(cidade.title())\n",
    "print(cidade.capitalize())\n",
    "print(cidade.lower())\n",
    "print(cidade.upper())"
   ]
  },
  {
   "cell_type": "code",
   "execution_count": 73,
   "id": "fa437ab2",
   "metadata": {},
   "outputs": [
    {
     "name": "stdout",
     "output_type": "stream",
     "text": [
      "Que cidade do Brasil é conhecida como cidade maravilhosa?rio de na\n",
      "Tenta de novo, vai!\n",
      "Que cidade do Brasil é conhecida como cidade maravilhosa?riode janeir\n",
      "Tenta de novo, vai!\n",
      "Que cidade do Brasil é conhecida como cidade maravilhosa?rio de janeiro\n",
      "Boooooa, campeão!\n"
     ]
    }
   ],
   "source": [
    "nome_cidade = input(\"Que cidade do Brasil é conhecida como cidade maravilhosa?\")\n",
    "nome_cidade = nome_cidade.strip()\n",
    "while nome_cidade.lower() != \"rio de janeiro\":\n",
    "    print('Tenta de novo, vai!')\n",
    "    nome_cidade = input(\"Que cidade do Brasil é conhecida como cidade maravilhosa?\")\n",
    "print(\"Boooooa, campeão!\")"
   ]
  },
  {
   "cell_type": "code",
   "execution_count": 75,
   "id": "15383f79",
   "metadata": {},
   "outputs": [
    {
     "name": "stdout",
     "output_type": "stream",
     "text": [
      "True\n"
     ]
    }
   ],
   "source": [
    "mensagem = \"Você viu o que o Pietro disse na sala ontem?\"\n",
    "fui_citado = \"Pietro\" in mensagem\n",
    "print(fui_citado)"
   ]
  },
  {
   "cell_type": "markdown",
   "id": "6828aa3e",
   "metadata": {},
   "source": [
    "### Aula 3 - Strings II"
   ]
  },
  {
   "cell_type": "code",
   "execution_count": 1,
   "id": "cd0bb692",
   "metadata": {},
   "outputs": [
    {
     "name": "stdout",
     "output_type": "stream",
     "text": [
      "Olá, Felipe\n"
     ]
    }
   ],
   "source": [
    "cumprimento = 'Olá, '\n",
    "nome = 'Felipe'\n",
    "print(cumprimento + nome)"
   ]
  },
  {
   "cell_type": "code",
   "execution_count": 4,
   "id": "f8fec62f",
   "metadata": {},
   "outputs": [
    {
     "name": "stdout",
     "output_type": "stream",
     "text": [
      "FelipeFelipeFelipeFelipeFelipe\n"
     ]
    }
   ],
   "source": [
    "print(nome * 5)"
   ]
  },
  {
   "cell_type": "code",
   "execution_count": 5,
   "id": "fe7c5c29",
   "metadata": {},
   "outputs": [
    {
     "name": "stdout",
     "output_type": "stream",
     "text": [
      "Felipe tem 35 anos e 2 filhos\n"
     ]
    }
   ],
   "source": [
    "nome = 'Felipe'\n",
    "idade = 35\n",
    "n_filhos = 2\n",
    "print(nome + ' tem ' + str(idade) + ' anos e ' + str(n_filhos) + ' filhos')"
   ]
  },
  {
   "cell_type": "code",
   "execution_count": 6,
   "id": "95719e7f",
   "metadata": {},
   "outputs": [
    {
     "name": "stdout",
     "output_type": "stream",
     "text": [
      "Felipe tem 35 anos e 2 filhos\n"
     ]
    }
   ],
   "source": [
    "print('{} tem {} anos e {} filhos'.format(nome, idade, n_filhos))"
   ]
  },
  {
   "cell_type": "code",
   "execution_count": 7,
   "id": "ee6925f6",
   "metadata": {},
   "outputs": [
    {
     "name": "stdout",
     "output_type": "stream",
     "text": [
      "O preço da gasolina hoje subiu e está em R$ 3.48\n"
     ]
    }
   ],
   "source": [
    "preco_gasolina = 3.476\n",
    "print('O preço da gasolina hoje subiu e está em R$ {:.2f}'.format(preco_gasolina))"
   ]
  },
  {
   "cell_type": "code",
   "execution_count": 8,
   "id": "71cfd9dd",
   "metadata": {},
   "outputs": [
    {
     "name": "stdout",
     "output_type": "stream",
     "text": [
      "Felipe tem 35 anos e 2 filhos\n"
     ]
    }
   ],
   "source": [
    "print(f'{nome} tem {idade} anos e {n_filhos} filhos')"
   ]
  },
  {
   "cell_type": "markdown",
   "id": "ae3c8343",
   "metadata": {},
   "source": [
    "### Aula 4 - Dicionários"
   ]
  },
  {
   "cell_type": "code",
   "execution_count": 9,
   "id": "af5004c6",
   "metadata": {},
   "outputs": [],
   "source": [
    "dados_cidade = {\n",
    "    'nome':'São Paulo',\n",
    "    'estado':'São Paulo',\n",
    "    'area_km2':1521,\n",
    "    'populacao_milhoes':12.18,\n",
    "}"
   ]
  },
  {
   "cell_type": "code",
   "execution_count": 10,
   "id": "363bc408",
   "metadata": {},
   "outputs": [
    {
     "name": "stdout",
     "output_type": "stream",
     "text": [
      "<class 'dict'>\n"
     ]
    }
   ],
   "source": [
    "print(type(dados_cidade))"
   ]
  },
  {
   "cell_type": "code",
   "execution_count": 11,
   "id": "fcc89457",
   "metadata": {},
   "outputs": [
    {
     "name": "stdout",
     "output_type": "stream",
     "text": [
      "{'nome': 'São Paulo', 'estado': 'São Paulo', 'area_km2': 1521, 'populacao_milhoes': 12.18}\n"
     ]
    }
   ],
   "source": [
    "print(dados_cidade)"
   ]
  },
  {
   "cell_type": "code",
   "execution_count": 12,
   "id": "e3d95b1d",
   "metadata": {},
   "outputs": [
    {
     "name": "stdout",
     "output_type": "stream",
     "text": [
      "{'nome': 'São Paulo', 'estado': 'São Paulo', 'area_km2': 1521, 'populacao_milhoes': 12.18, 'país': 'Brasil'}\n"
     ]
    }
   ],
   "source": [
    "dados_cidade['país'] = 'Brasil'\n",
    "print(dados_cidade)"
   ]
  },
  {
   "cell_type": "code",
   "execution_count": 13,
   "id": "467bc8f1",
   "metadata": {},
   "outputs": [
    {
     "name": "stdout",
     "output_type": "stream",
     "text": [
      "{'nome': 'São Paulo', 'estado': 'São Paulo', 'area_km2': 1500, 'populacao_milhoes': 12.18, 'país': 'Brasil'}\n"
     ]
    }
   ],
   "source": [
    "dados_cidade['area_km2'] = 1500\n",
    "print(dados_cidade)"
   ]
  },
  {
   "cell_type": "code",
   "execution_count": 14,
   "id": "6a57a583",
   "metadata": {},
   "outputs": [],
   "source": [
    "dados_cidade_2 = dados_cidade"
   ]
  },
  {
   "cell_type": "code",
   "execution_count": 15,
   "id": "0f051836",
   "metadata": {},
   "outputs": [],
   "source": [
    "dados_cidade_2['nome'] = 'Santos'"
   ]
  },
  {
   "cell_type": "code",
   "execution_count": 16,
   "id": "d1bfa58b",
   "metadata": {},
   "outputs": [
    {
     "name": "stdout",
     "output_type": "stream",
     "text": [
      "{'nome': 'Santos', 'estado': 'São Paulo', 'area_km2': 1500, 'populacao_milhoes': 12.18, 'país': 'Brasil'}\n"
     ]
    }
   ],
   "source": [
    "print(dados_cidade_2)"
   ]
  },
  {
   "cell_type": "code",
   "execution_count": 17,
   "id": "7afeaff2",
   "metadata": {},
   "outputs": [
    {
     "name": "stdout",
     "output_type": "stream",
     "text": [
      "{'nome': 'Santos', 'estado': 'São Paulo', 'area_km2': 1500, 'populacao_milhoes': 12.18, 'país': 'Brasil'}\n"
     ]
    }
   ],
   "source": [
    "print(dados_cidade)"
   ]
  },
  {
   "cell_type": "code",
   "execution_count": 18,
   "id": "4b994784",
   "metadata": {},
   "outputs": [],
   "source": [
    "dados_cidade_3 = dados_cidade.copy()"
   ]
  },
  {
   "cell_type": "code",
   "execution_count": 19,
   "id": "2ccb7e0a",
   "metadata": {},
   "outputs": [],
   "source": [
    "dados_cidade_3['estado'] = 'Rio de Janeiro'"
   ]
  },
  {
   "cell_type": "code",
   "execution_count": 20,
   "id": "6f8bd8ad",
   "metadata": {},
   "outputs": [
    {
     "name": "stdout",
     "output_type": "stream",
     "text": [
      "{'nome': 'Santos', 'estado': 'Rio de Janeiro', 'area_km2': 1500, 'populacao_milhoes': 12.18, 'país': 'Brasil'}\n"
     ]
    }
   ],
   "source": [
    "print(dados_cidade_3)"
   ]
  },
  {
   "cell_type": "code",
   "execution_count": 21,
   "id": "6a5627e9",
   "metadata": {},
   "outputs": [
    {
     "name": "stdout",
     "output_type": "stream",
     "text": [
      "{'nome': 'Santos', 'estado': 'São Paulo', 'area_km2': 1500, 'populacao_milhoes': 12.18, 'país': 'Brasil'}\n"
     ]
    }
   ],
   "source": [
    "print(dados_cidade)"
   ]
  },
  {
   "cell_type": "code",
   "execution_count": 22,
   "id": "1c4c00fa",
   "metadata": {},
   "outputs": [],
   "source": [
    "dados_cidade['nome'] = 'São Paulo'"
   ]
  },
  {
   "cell_type": "code",
   "execution_count": 24,
   "id": "035ff67d",
   "metadata": {},
   "outputs": [
    {
     "name": "stdout",
     "output_type": "stream",
     "text": [
      "{'nome': 'São Paulo', 'estado': 'São Paulo', 'area_km2': 1500, 'populacao_milhoes': 15, 'país': 'Brasil', 'fundacao': '25/01/1554'}\n"
     ]
    }
   ],
   "source": [
    "novos_dados = {\n",
    "    'populacao_milhoes':15,\n",
    "    'fundacao':'25/01/1554'\n",
    "}\n",
    "\n",
    "dados_cidade.update(novos_dados)\n",
    "print(dados_cidade)"
   ]
  },
  {
   "cell_type": "code",
   "execution_count": 25,
   "id": "b33bac25",
   "metadata": {},
   "outputs": [
    {
     "ename": "KeyError",
     "evalue": "'prefeito'",
     "output_type": "error",
     "traceback": [
      "\u001b[1;31m---------------------------------------------------------------------------\u001b[0m",
      "\u001b[1;31mKeyError\u001b[0m                                  Traceback (most recent call last)",
      "\u001b[1;32m~\\AppData\\Local\\Temp/ipykernel_10080/2474666537.py\u001b[0m in \u001b[0;36m<module>\u001b[1;34m\u001b[0m\n\u001b[1;32m----> 1\u001b[1;33m \u001b[0mprint\u001b[0m\u001b[1;33m(\u001b[0m\u001b[0mdados_cidade\u001b[0m\u001b[1;33m[\u001b[0m\u001b[1;34m'prefeito'\u001b[0m\u001b[1;33m]\u001b[0m\u001b[1;33m)\u001b[0m\u001b[1;33m\u001b[0m\u001b[1;33m\u001b[0m\u001b[0m\n\u001b[0m",
      "\u001b[1;31mKeyError\u001b[0m: 'prefeito'"
     ]
    }
   ],
   "source": [
    "print(dados_cidade['prefeito'])"
   ]
  },
  {
   "cell_type": "code",
   "execution_count": 28,
   "id": "3386cdd6",
   "metadata": {},
   "outputs": [
    {
     "name": "stdout",
     "output_type": "stream",
     "text": [
      "None\n"
     ]
    }
   ],
   "source": [
    "print(dados_cidade.get('prefeito'))"
   ]
  },
  {
   "cell_type": "code",
   "execution_count": 29,
   "id": "9af5d6f8",
   "metadata": {},
   "outputs": [
    {
     "name": "stdout",
     "output_type": "stream",
     "text": [
      "dict_keys(['nome', 'estado', 'area_km2', 'populacao_milhoes', 'país', 'fundacao'])\n",
      "----\n",
      "dict_values(['São Paulo', 'São Paulo', 1500, 15, 'Brasil', '25/01/1554'])\n",
      "----\n",
      "dict_items([('nome', 'São Paulo'), ('estado', 'São Paulo'), ('area_km2', 1500), ('populacao_milhoes', 15), ('país', 'Brasil'), ('fundacao', '25/01/1554')])\n"
     ]
    }
   ],
   "source": [
    "print(dados_cidade.keys())\n",
    "print('----')\n",
    "print(dados_cidade.values())\n",
    "print('----')\n",
    "print(dados_cidade.items())"
   ]
  },
  {
   "cell_type": "markdown",
   "id": "89e638b4",
   "metadata": {},
   "source": [
    "### Aula 5 - Estruturas de Repetição - For"
   ]
  },
  {
   "cell_type": "code",
   "execution_count": 4,
   "id": "c1a06c41",
   "metadata": {},
   "outputs": [
    {
     "name": "stdout",
     "output_type": "stream",
     "text": [
      "São Paulo\n",
      "Londres\n",
      "Tóquio\n",
      "Paris\n"
     ]
    }
   ],
   "source": [
    "nomes_cidades = ['São Paulo', 'Londres', 'Tóquio', 'Paris']\n",
    "for nomes in nomes_cidades:\n",
    "    print(nomes)"
   ]
  },
  {
   "cell_type": "code",
   "execution_count": 5,
   "id": "d7da96d7",
   "metadata": {},
   "outputs": [
    {
     "name": "stdout",
     "output_type": "stream",
     "text": [
      "São Paulo\n",
      "Londres\n",
      "Tóquio\n",
      "Paris\n"
     ]
    }
   ],
   "source": [
    "contador = 0\n",
    "while contador < len(nomes_cidades):\n",
    "    print(nomes_cidades[contador])\n",
    "    contador += 1"
   ]
  },
  {
   "cell_type": "code",
   "execution_count": 6,
   "id": "98c2e99f",
   "metadata": {},
   "outputs": [
    {
     "name": "stdout",
     "output_type": "stream",
     "text": [
      "São Paulo\n",
      "Londres\n",
      "Tóquio\n",
      "Paris\n"
     ]
    }
   ],
   "source": [
    "nomes_cidades = 'São Paulo', 'Londres', 'Tóquio', 'Paris'\n",
    "for nomes in nomes_cidades:\n",
    "    print(nomes)"
   ]
  },
  {
   "cell_type": "code",
   "execution_count": 19,
   "id": "ff90f9f7",
   "metadata": {},
   "outputs": [
    {
     "name": "stdout",
     "output_type": "stream",
     "text": [
      "nome: São Paulo\n",
      "estado: São Paulo\n",
      "populacao_milhoes: 12.2\n"
     ]
    }
   ],
   "source": [
    "cidade = {\n",
    "    'nome':'São Paulo',\n",
    "    'estado':'São Paulo',\n",
    "    'populacao_milhoes':12.2\n",
    "}\n",
    "for chave in cidade:\n",
    "    print(f'{chave}: {cidade[chave]}')"
   ]
  },
  {
   "cell_type": "code",
   "execution_count": 22,
   "id": "3cf0a2cd",
   "metadata": {},
   "outputs": [
    {
     "name": "stdout",
     "output_type": "stream",
     "text": [
      "['São Paulo', 'Londres', 'Tóquio', 'Paris']\n"
     ]
    }
   ],
   "source": [
    "nomes_cidades = ['São Paulo', 'Londres', 'Tóquio', 'Paris']\n",
    "for nome in nomes_cidades:\n",
    "    nome = 'Rio de Janeiro'\n",
    "print(nomes_cidades)"
   ]
  },
  {
   "cell_type": "code",
   "execution_count": 28,
   "id": "5f0465d4",
   "metadata": {},
   "outputs": [
    {
     "name": "stdout",
     "output_type": "stream",
     "text": [
      "['Rio de Janeiro', 'Rio de Janeiro', 'Rio de Janeiro', 'Rio de Janeiro']\n"
     ]
    }
   ],
   "source": [
    "for posicao in range(len(nomes_cidades)):\n",
    "    nomes_cidades[posicao] = 'Rio de Janeiro'\n",
    "print(nomes_cidades)"
   ]
  },
  {
   "cell_type": "code",
   "execution_count": 29,
   "id": "37b77489",
   "metadata": {},
   "outputs": [
    {
     "name": "stdout",
     "output_type": "stream",
     "text": [
      "[0, 1, 2, 3, 4, 5, 6, 7, 8, 9]\n",
      "[2, 3, 4, 5, 6, 7, 8, 9]\n",
      "[2, 4, 6, 8]\n"
     ]
    }
   ],
   "source": [
    "print(list(range(10)))\n",
    "print(list(range(2, 10)))\n",
    "print(list(range(2, 10, 2)))"
   ]
  },
  {
   "cell_type": "markdown",
   "id": "e0347b03",
   "metadata": {},
   "source": [
    "### Aula 6 - Funções I"
   ]
  },
  {
   "cell_type": "code",
   "execution_count": 31,
   "id": "46032b80",
   "metadata": {},
   "outputs": [],
   "source": [
    "def hello():\n",
    "    print('Olá, mundo!')"
   ]
  },
  {
   "cell_type": "code",
   "execution_count": 32,
   "id": "7aae1d27",
   "metadata": {},
   "outputs": [
    {
     "name": "stdout",
     "output_type": "stream",
     "text": [
      "Olá, mundo!\n"
     ]
    }
   ],
   "source": [
    "hello()"
   ]
  },
  {
   "cell_type": "code",
   "execution_count": 34,
   "id": "e0c62971",
   "metadata": {},
   "outputs": [],
   "source": [
    "def calcula_media(valor1, valor2, valor3):\n",
    "    soma = valor1 + valor2 + valor3\n",
    "    media = soma / 3\n",
    "    return media"
   ]
  },
  {
   "cell_type": "code",
   "execution_count": 43,
   "id": "862e8fad",
   "metadata": {},
   "outputs": [
    {
     "name": "stdout",
     "output_type": "stream",
     "text": [
      "9.0\n"
     ]
    }
   ],
   "source": [
    "resultado = calcula_media(9,10,8)\n",
    "print(resultado)"
   ]
  },
  {
   "cell_type": "code",
   "execution_count": 39,
   "id": "989327e3",
   "metadata": {},
   "outputs": [
    {
     "name": "stdout",
     "output_type": "stream",
     "text": [
      "9.333333333333334\n"
     ]
    }
   ],
   "source": [
    "resultado2 = calcula_media(valor1=9,valor2=10,valor3=9)\n",
    "print(resultado2)"
   ]
  },
  {
   "cell_type": "code",
   "execution_count": 45,
   "id": "28a8abe9",
   "metadata": {},
   "outputs": [
    {
     "name": "stdout",
     "output_type": "stream",
     "text": [
      "Olá Maria\n"
     ]
    }
   ],
   "source": [
    "def ola(nome):\n",
    "    print(\"Olá\", nome)\n",
    "ola(nome='Maria')"
   ]
  },
  {
   "cell_type": "code",
   "execution_count": 46,
   "id": "5fc46328",
   "metadata": {},
   "outputs": [
    {
     "name": "stdout",
     "output_type": "stream",
     "text": [
      "Olá\n",
      "Pietro\n"
     ]
    }
   ],
   "source": [
    "print('Olá')\n",
    "print('Pietro')"
   ]
  },
  {
   "cell_type": "code",
   "execution_count": 47,
   "id": "80496446",
   "metadata": {},
   "outputs": [
    {
     "name": "stdout",
     "output_type": "stream",
     "text": [
      "Olá Pietro\n"
     ]
    }
   ],
   "source": [
    "print('Olá', end=\" \")\n",
    "print('Pietro')"
   ]
  },
  {
   "cell_type": "code",
   "execution_count": 48,
   "id": "ac2402e7",
   "metadata": {},
   "outputs": [],
   "source": [
    "def calcula_media(valor1=0, valor2=0, valor3=0):\n",
    "    soma = valor1 + valor2 + valor3\n",
    "    media = soma / 3\n",
    "    return media"
   ]
  },
  {
   "cell_type": "code",
   "execution_count": 50,
   "id": "2b1dad34",
   "metadata": {},
   "outputs": [
    {
     "name": "stdout",
     "output_type": "stream",
     "text": [
      "0.0\n"
     ]
    }
   ],
   "source": [
    "resultado = calcula_media()\n",
    "print(resultado)"
   ]
  },
  {
   "cell_type": "code",
   "execution_count": 51,
   "id": "2968fea9",
   "metadata": {},
   "outputs": [
    {
     "ename": "SyntaxError",
     "evalue": "non-default argument follows default argument (Temp/ipykernel_1980/1886982132.py, line 1)",
     "output_type": "error",
     "traceback": [
      "\u001b[1;36m  File \u001b[1;32m\"C:\\Users\\felis\\AppData\\Local\\Temp/ipykernel_1980/1886982132.py\"\u001b[1;36m, line \u001b[1;32m1\u001b[0m\n\u001b[1;33m    def calcula_media(valor1=0, valor2, valor3=0):\u001b[0m\n\u001b[1;37m                                        ^\u001b[0m\n\u001b[1;31mSyntaxError\u001b[0m\u001b[1;31m:\u001b[0m non-default argument follows default argument\n"
     ]
    }
   ],
   "source": [
    "def calcula_media(valor1=0, valor2, valor3=0):\n",
    "    soma = valor1 + valor2 + valor3\n",
    "    media = soma / 3\n",
    "    return media"
   ]
  },
  {
   "cell_type": "code",
   "execution_count": 55,
   "id": "eea4d2d3",
   "metadata": {},
   "outputs": [],
   "source": [
    "def calcula_media(valor1, valor2, valor3=0):\n",
    "    soma = valor1 + valor2 + valor3\n",
    "    media = soma / 3\n",
    "    return media"
   ]
  },
  {
   "cell_type": "markdown",
   "id": "d20b034c",
   "metadata": {},
   "source": [
    "### Aula 7 - Funções II"
   ]
  },
  {
   "cell_type": "code",
   "execution_count": 58,
   "id": "235cda3c",
   "metadata": {},
   "outputs": [
    {
     "name": "stdout",
     "output_type": "stream",
     "text": [
      "9.0\n"
     ]
    }
   ],
   "source": [
    "def calcula_media(*args):\n",
    "    soma = sum(args)\n",
    "    media = soma/len(args)\n",
    "    return media\n",
    "resultado = calcula_media(10, 8, 9)\n",
    "print(resultado)"
   ]
  },
  {
   "cell_type": "code",
   "execution_count": 59,
   "id": "3e0e2356",
   "metadata": {},
   "outputs": [
    {
     "ename": "TypeError",
     "evalue": "calcula_media() missing 1 required keyword-only argument: 'margem'",
     "output_type": "error",
     "traceback": [
      "\u001b[1;31m---------------------------------------------------------------------------\u001b[0m",
      "\u001b[1;31mTypeError\u001b[0m                                 Traceback (most recent call last)",
      "\u001b[1;32m~\\AppData\\Local\\Temp/ipykernel_1980/3855554545.py\u001b[0m in \u001b[0;36m<module>\u001b[1;34m\u001b[0m\n\u001b[0;32m      3\u001b[0m     \u001b[0mmedia\u001b[0m \u001b[1;33m=\u001b[0m \u001b[0msoma\u001b[0m\u001b[1;33m/\u001b[0m\u001b[0mlen\u001b[0m\u001b[1;33m(\u001b[0m\u001b[0margs\u001b[0m\u001b[1;33m)\u001b[0m\u001b[1;33m\u001b[0m\u001b[1;33m\u001b[0m\u001b[0m\n\u001b[0;32m      4\u001b[0m     \u001b[1;32mreturn\u001b[0m \u001b[0mmedia\u001b[0m\u001b[1;33m\u001b[0m\u001b[1;33m\u001b[0m\u001b[0m\n\u001b[1;32m----> 5\u001b[1;33m \u001b[0mresultado\u001b[0m \u001b[1;33m=\u001b[0m \u001b[0mcalcula_media\u001b[0m\u001b[1;33m(\u001b[0m\u001b[1;36m10\u001b[0m\u001b[1;33m,\u001b[0m \u001b[1;36m8\u001b[0m\u001b[1;33m,\u001b[0m \u001b[1;36m9\u001b[0m\u001b[1;33m)\u001b[0m\u001b[1;33m\u001b[0m\u001b[1;33m\u001b[0m\u001b[0m\n\u001b[0m\u001b[0;32m      6\u001b[0m \u001b[0mprint\u001b[0m\u001b[1;33m(\u001b[0m\u001b[0mresultado\u001b[0m\u001b[1;33m)\u001b[0m\u001b[1;33m\u001b[0m\u001b[1;33m\u001b[0m\u001b[0m\n",
      "\u001b[1;31mTypeError\u001b[0m: calcula_media() missing 1 required keyword-only argument: 'margem'"
     ]
    }
   ],
   "source": [
    "def calcula_media(*args, margem):\n",
    "    soma = sum(args)\n",
    "    media = soma/len(args)\n",
    "    return media\n",
    "resultado = calcula_media(10, 8, 9)\n",
    "print(resultado)"
   ]
  },
  {
   "cell_type": "code",
   "execution_count": 61,
   "id": "fc8fd5ca",
   "metadata": {},
   "outputs": [
    {
     "name": "stdout",
     "output_type": "stream",
     "text": [
      "18.0\n"
     ]
    }
   ],
   "source": [
    "def calcula_media(*args, margem):\n",
    "    soma = sum(args)\n",
    "    media = soma/len(args)\n",
    "    return media + margem\n",
    "resultado = calcula_media(10, 8, margem=9)\n",
    "print(resultado)"
   ]
  },
  {
   "cell_type": "code",
   "execution_count": null,
   "id": "b450a611",
   "metadata": {},
   "outputs": [],
   "source": [
    "def print_info(**kwargs):\n",
    "    print(kwargs, type(kwargs))\n"
   ]
  }
 ],
 "metadata": {
  "kernelspec": {
   "display_name": "Python 3 (ipykernel)",
   "language": "python",
   "name": "python3"
  },
  "language_info": {
   "codemirror_mode": {
    "name": "ipython",
    "version": 3
   },
   "file_extension": ".py",
   "mimetype": "text/x-python",
   "name": "python",
   "nbconvert_exporter": "python",
   "pygments_lexer": "ipython3",
   "version": "3.9.5"
  }
 },
 "nbformat": 4,
 "nbformat_minor": 5
}
