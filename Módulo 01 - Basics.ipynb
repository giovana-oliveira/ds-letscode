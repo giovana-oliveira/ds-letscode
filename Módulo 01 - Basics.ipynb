{
 "cells": [
  {
   "cell_type": "markdown",
   "id": "b34508bd",
   "metadata": {},
   "source": [
    "### Aula 3 - Tipos de Variáveis"
   ]
  },
  {
   "cell_type": "code",
   "execution_count": 5,
   "id": "7ff0a711",
   "metadata": {},
   "outputs": [],
   "source": [
    "x = 5"
   ]
  },
  {
   "cell_type": "code",
   "execution_count": 6,
   "id": "39974195",
   "metadata": {},
   "outputs": [
    {
     "name": "stdout",
     "output_type": "stream",
     "text": [
      "5\n"
     ]
    }
   ],
   "source": [
    "print(x)"
   ]
  },
  {
   "cell_type": "code",
   "execution_count": 7,
   "id": "aea3ef4d",
   "metadata": {},
   "outputs": [
    {
     "name": "stdout",
     "output_type": "stream",
     "text": [
      "<class 'int'>\n"
     ]
    }
   ],
   "source": [
    "print(type(x))"
   ]
  },
  {
   "cell_type": "code",
   "execution_count": 8,
   "id": "dff854c2",
   "metadata": {},
   "outputs": [],
   "source": [
    "preco = 19.99"
   ]
  },
  {
   "cell_type": "code",
   "execution_count": 9,
   "id": "21ff8a38",
   "metadata": {},
   "outputs": [
    {
     "name": "stdout",
     "output_type": "stream",
     "text": [
      "19.99 <class 'float'>\n"
     ]
    }
   ],
   "source": [
    "print(preco, type(preco))"
   ]
  },
  {
   "cell_type": "code",
   "execution_count": 10,
   "id": "60624cb8",
   "metadata": {},
   "outputs": [],
   "source": [
    "cidade = \"Belém\""
   ]
  },
  {
   "cell_type": "code",
   "execution_count": 11,
   "id": "9ff8fed1",
   "metadata": {},
   "outputs": [
    {
     "name": "stdout",
     "output_type": "stream",
     "text": [
      "Belém <class 'str'>\n"
     ]
    }
   ],
   "source": [
    "print(cidade, type(cidade))"
   ]
  },
  {
   "cell_type": "code",
   "execution_count": 12,
   "id": "1d8be9ee",
   "metadata": {},
   "outputs": [],
   "source": [
    "cidade = 'Belém'"
   ]
  },
  {
   "cell_type": "code",
   "execution_count": 13,
   "id": "e960d518",
   "metadata": {},
   "outputs": [
    {
     "name": "stdout",
     "output_type": "stream",
     "text": [
      "Belém <class 'str'>\n"
     ]
    }
   ],
   "source": [
    "print(cidade, type(cidade))"
   ]
  },
  {
   "cell_type": "code",
   "execution_count": 14,
   "id": "1fd5863f",
   "metadata": {},
   "outputs": [],
   "source": [
    "disponivel = True"
   ]
  },
  {
   "cell_type": "code",
   "execution_count": 15,
   "id": "c720435e",
   "metadata": {},
   "outputs": [
    {
     "name": "stdout",
     "output_type": "stream",
     "text": [
      "True\n"
     ]
    }
   ],
   "source": [
    "print(disponivel)"
   ]
  },
  {
   "cell_type": "code",
   "execution_count": 16,
   "id": "2da92455",
   "metadata": {},
   "outputs": [],
   "source": [
    "disponivel = False"
   ]
  },
  {
   "cell_type": "code",
   "execution_count": 19,
   "id": "5831637b",
   "metadata": {},
   "outputs": [
    {
     "name": "stdout",
     "output_type": "stream",
     "text": [
      "False <class 'bool'>\n"
     ]
    }
   ],
   "source": [
    "print(disponivel, type(disponivel))"
   ]
  },
  {
   "cell_type": "markdown",
   "id": "5e3d1337",
   "metadata": {},
   "source": [
    "### Aula 4 - Operadores"
   ]
  },
  {
   "cell_type": "code",
   "execution_count": 21,
   "id": "9736757d",
   "metadata": {},
   "outputs": [],
   "source": [
    "x = 50\n",
    "y = 2"
   ]
  },
  {
   "cell_type": "code",
   "execution_count": 23,
   "id": "5233aaf3",
   "metadata": {},
   "outputs": [
    {
     "name": "stdout",
     "output_type": "stream",
     "text": [
      "52\n",
      "48\n",
      "100\n",
      "25.0\n"
     ]
    }
   ],
   "source": [
    "print (x + y)\n",
    "print (x - y)\n",
    "print (x * y)\n",
    "print (x / y)"
   ]
  },
  {
   "cell_type": "code",
   "execution_count": 24,
   "id": "09cb028e",
   "metadata": {},
   "outputs": [
    {
     "name": "stdout",
     "output_type": "stream",
     "text": [
      "2500\n",
      "25\n",
      "0\n"
     ]
    }
   ],
   "source": [
    "print (x ** y) # potenciação\n",
    "print (x // y) # divisão inteira. é o valor truncado da divisão padrão\n",
    "print (x % y) # resto da divisão"
   ]
  },
  {
   "cell_type": "code",
   "execution_count": 25,
   "id": "0ecdc6f9",
   "metadata": {},
   "outputs": [
    {
     "name": "stdout",
     "output_type": "stream",
     "text": [
      "0\n"
     ]
    }
   ],
   "source": [
    "print (3 // 4)"
   ]
  },
  {
   "cell_type": "code",
   "execution_count": 27,
   "id": "5b22d0aa",
   "metadata": {},
   "outputs": [],
   "source": [
    "tem_cafe = True\n",
    "tem_pao = False"
   ]
  },
  {
   "cell_type": "code",
   "execution_count": 29,
   "id": "8446adf0",
   "metadata": {},
   "outputs": [
    {
     "name": "stdout",
     "output_type": "stream",
     "text": [
      "False\n",
      "True\n",
      "False\n"
     ]
    }
   ],
   "source": [
    "print (not tem_cafe)\n",
    "print (tem_cafe or tem_pao)\n",
    "print (tem_cafe and tem_pao)"
   ]
  },
  {
   "cell_type": "code",
   "execution_count": 30,
   "id": "40cc82a0",
   "metadata": {},
   "outputs": [],
   "source": [
    "dolar = 5.4\n",
    "real = 1"
   ]
  },
  {
   "cell_type": "code",
   "execution_count": 31,
   "id": "dfbc7ccc",
   "metadata": {},
   "outputs": [
    {
     "name": "stdout",
     "output_type": "stream",
     "text": [
      "True\n",
      "False\n",
      "False\n",
      "True\n",
      "False\n",
      "True\n"
     ]
    }
   ],
   "source": [
    "print (dolar > real)\n",
    "print (dolar < real)\n",
    "print (dolar == real)\n",
    "print (dolar >= real)\n",
    "print (dolar <= real)\n",
    "print (dolar != real)"
   ]
  },
  {
   "cell_type": "markdown",
   "id": "4d5c0c28",
   "metadata": {},
   "source": [
    "### Aula 5 - Estruturas Sequenciais"
   ]
  },
  {
   "cell_type": "code",
   "execution_count": 35,
   "id": "af168d13",
   "metadata": {},
   "outputs": [
    {
     "name": "stdout",
     "output_type": "stream",
     "text": [
      "Informe sua idade: 24\n",
      "24 <class 'str'>\n"
     ]
    }
   ],
   "source": [
    "idade = input(\"Informe sua idade: \")\n",
    "print(idade, type(idade))"
   ]
  },
  {
   "cell_type": "code",
   "execution_count": 36,
   "id": "7445612e",
   "metadata": {},
   "outputs": [
    {
     "name": "stdout",
     "output_type": "stream",
     "text": [
      "24 <class 'int'>\n"
     ]
    }
   ],
   "source": [
    "idade = int(idade)\n",
    "print(idade, type(idade))"
   ]
  },
  {
   "cell_type": "code",
   "execution_count": 41,
   "id": "e367c42f",
   "metadata": {},
   "outputs": [
    {
     "ename": "ValueError",
     "evalue": "invalid literal for int() with base 10: '123abc'",
     "output_type": "error",
     "traceback": [
      "\u001b[1;31m---------------------------------------------------------------------------\u001b[0m",
      "\u001b[1;31mValueError\u001b[0m                                Traceback (most recent call last)",
      "\u001b[1;32m~\\AppData\\Local\\Temp/ipykernel_9168/2154220962.py\u001b[0m in \u001b[0;36m<module>\u001b[1;34m\u001b[0m\n\u001b[1;32m----> 1\u001b[1;33m \u001b[0mint\u001b[0m\u001b[1;33m(\u001b[0m\u001b[1;34m'123abc'\u001b[0m\u001b[1;33m)\u001b[0m\u001b[1;33m\u001b[0m\u001b[1;33m\u001b[0m\u001b[0m\n\u001b[0m",
      "\u001b[1;31mValueError\u001b[0m: invalid literal for int() with base 10: '123abc'"
     ]
    }
   ],
   "source": [
    "int('123abc')"
   ]
  },
  {
   "cell_type": "code",
   "execution_count": 43,
   "id": "c384a6f0",
   "metadata": {},
   "outputs": [
    {
     "name": "stdout",
     "output_type": "stream",
     "text": [
      "123.25\n",
      "123.25\n",
      "False\n",
      "True\n",
      "False\n",
      "True\n"
     ]
    }
   ],
   "source": [
    "print(float('123.25'))\n",
    "print(str(123.25))\n",
    "print(bool(''))\n",
    "print(bool('abc'))\n",
    "print(bool(0))\n",
    "print(bool(-2))"
   ]
  },
  {
   "cell_type": "code",
   "execution_count": 51,
   "id": "441f781a",
   "metadata": {},
   "outputs": [
    {
     "name": "stdout",
     "output_type": "stream",
     "text": [
      "Por favor, digite o valor de seu salario mensal: 5000\n",
      "Por favor, digite o valor de seu gasto mensal, em média: 2000\n",
      "Montante economizado ao fim do ano:  36000.0\n"
     ]
    }
   ],
   "source": [
    "salario_mensal = input(\"Por favor, digite o valor de seu salario mensal: \")\n",
    "salario_mensal = float(salario_mensal)\n",
    "\n",
    "gasto_mensal = input(\"Por favor, digite o valor de seu gasto mensal, em média: \")\n",
    "gasto_mensal = float(gasto_mensal)\n",
    "\n",
    "salario_total = salario_mensal * 12\n",
    "gasto_total = gasto_mensal * 12\n",
    "\n",
    "montante_economizado = salario_total - gasto_total\n",
    "print(\"Montante economizado ao fim do ano: \", montante_economizado)"
   ]
  },
  {
   "cell_type": "markdown",
   "id": "20e47b57",
   "metadata": {},
   "source": [
    "### Aula 6 - Estruturas Condicionais"
   ]
  },
  {
   "cell_type": "code",
   "execution_count": 53,
   "id": "24275f9c",
   "metadata": {},
   "outputs": [
    {
     "name": "stdout",
     "output_type": "stream",
     "text": [
      "Qual é o valor da corrida? 35.00\n",
      "Pegue o ônibus\n"
     ]
    }
   ],
   "source": [
    "valor_passagem = 4.30\n",
    "\n",
    "valor_corrida = input('Qual é o valor da corrida? ')\n",
    "\n",
    "if (float(valor_corrida) <= valor_passagem * 5):\n",
    "    print ('Pague a corrida')\n",
    "if(float(valor_corrida) > valor_passagem * 5):\n",
    "    print('Pegue o ônibus')"
   ]
  },
  {
   "cell_type": "code",
   "execution_count": 54,
   "id": "ec0a6a08",
   "metadata": {},
   "outputs": [
    {
     "name": "stdout",
     "output_type": "stream",
     "text": [
      "Qual é o valor da corrida? 17\n",
      "Pague a corrida\n"
     ]
    }
   ],
   "source": [
    "valor_passagem = 4.30\n",
    "\n",
    "valor_corrida = input('Qual é o valor da corrida? ')\n",
    "\n",
    "if (float(valor_corrida) <= valor_passagem * 5):\n",
    "    print ('Pague a corrida')\n",
    "else:\n",
    "    print('Pegue o ônibus')"
   ]
  },
  {
   "cell_type": "code",
   "execution_count": 56,
   "id": "a8d328fe",
   "metadata": {},
   "outputs": [
    {
     "name": "stdout",
     "output_type": "stream",
     "text": [
      "Qual é o valor da corrida? 35\n",
      "Pegue o ônibus\n"
     ]
    }
   ],
   "source": [
    "valor_passagem = 4.30\n",
    "\n",
    "valor_corrida = input('Qual é o valor da corrida? ')\n",
    "\n",
    "if (float(valor_corrida) <= valor_passagem * 5):\n",
    "    print ('Pague a corrida')\n",
    "else:\n",
    "    if (float(valor_corrida) <= valor_passagem * 6):\n",
    "        print('Aguarde um momento, o valor pode abaixar')\n",
    "    else:\n",
    "        print('Pegue o ônibus')"
   ]
  },
  {
   "cell_type": "code",
   "execution_count": 57,
   "id": "38f3e532",
   "metadata": {},
   "outputs": [
    {
     "name": "stdout",
     "output_type": "stream",
     "text": [
      "Qual é o valor da corrida? 35\n",
      "Pegue o ônibus\n"
     ]
    }
   ],
   "source": [
    "valor_passagem = 4.30\n",
    "\n",
    "valor_corrida = input('Qual é o valor da corrida? ')\n",
    "\n",
    "if (float(valor_corrida) <= valor_passagem * 5):\n",
    "    print ('Pague a corrida')\n",
    "elif (float(valor_corrida) <= valor_passagem * 6):\n",
    "    print('Aguarde um momento, o valor pode abaixar')\n",
    "else:\n",
    "    print('Pegue o ônibus')"
   ]
  },
  {
   "cell_type": "markdown",
   "id": "af4300cc",
   "metadata": {},
   "source": [
    "### Aula 7 - Estruturas de Repetição"
   ]
  },
  {
   "cell_type": "code",
   "execution_count": 59,
   "id": "d5379bed",
   "metadata": {},
   "outputs": [
    {
     "name": "stdout",
     "output_type": "stream",
     "text": [
      "1  item limpo\n",
      "2  itens limpos\n",
      "3  itens limpos\n",
      "4  itens limpos\n",
      "5  itens limpos\n",
      "6  itens limpos\n",
      "7  itens limpos\n",
      "8  itens limpos\n",
      "9  itens limpos\n",
      "10  itens limpos\n",
      "Fim do bloco while\n"
     ]
    }
   ],
   "source": [
    "contador = 0\n",
    "\n",
    "while contador < 10:\n",
    "    contador += 1\n",
    "    if contador == 1:\n",
    "        print(contador, \" item limpo\")\n",
    "    else:\n",
    "        print(contador, \" itens limpos\")\n",
    "        \n",
    "print(\"Fim do bloco while\")"
   ]
  },
  {
   "cell_type": "code",
   "execution_count": 63,
   "id": "86b83497",
   "metadata": {},
   "outputs": [
    {
     "name": "stdout",
     "output_type": "stream",
     "text": [
      "1  item limpo\n",
      "2  itens limpos\n",
      "3  itens limpos\n",
      "4  itens limpos\n",
      "5  itens limpos\n",
      "6  itens limpos\n",
      "7  itens limpos\n",
      "8  itens limpos\n",
      "9  itens limpos\n",
      "10  itens limpos\n",
      "Fim da repetição do bloco while\n"
     ]
    }
   ],
   "source": [
    "contador = 0\n",
    "\n",
    "while True:\n",
    "    if contador < 10:\n",
    "        contador += 1\n",
    "        if contador == 1:\n",
    "            print(contador, \" item limpo\")\n",
    "        else:\n",
    "            print(contador, \" itens limpos\")\n",
    "    else:\n",
    "        break # só um exemplo, não deve-se usar o break dessa forma\n",
    "            \n",
    "print(\"Fim da repetição do bloco while\")"
   ]
  },
  {
   "cell_type": "code",
   "execution_count": 65,
   "id": "2014269a",
   "metadata": {},
   "outputs": [
    {
     "name": "stdout",
     "output_type": "stream",
     "text": [
      "Digite sua senha: \n",
      "letscode\n",
      "Senha inválida. Tente novamente \n",
      "let'scode\n",
      "Senha inválida. Tente novamente \n",
      "LetsCode\n",
      "Acesso permitido\n"
     ]
    }
   ],
   "source": [
    "texto = input(\"Digite sua senha: \\n\")\n",
    "\n",
    "while texto != \"LetsCode\":\n",
    "    texto = input(\"Senha inválida. Tente novamente \\n\")\n",
    "    \n",
    "print(\"Acesso permitido\")"
   ]
  },
  {
   "cell_type": "code",
   "execution_count": 66,
   "id": "6a03dffc",
   "metadata": {
    "scrolled": true
   },
   "outputs": [
    {
     "name": "stdout",
     "output_type": "stream",
     "text": [
      "2  itens limpos\n",
      "3  itens limpos\n",
      "4  itens limpos\n",
      "5  itens limpos\n",
      "6  itens limpos\n",
      "7  itens limpos\n",
      "8  itens limpos\n",
      "9  itens limpos\n",
      "10  itens limpos\n",
      "Fim do bloco while\n"
     ]
    }
   ],
   "source": [
    "contador = 0\n",
    "\n",
    "while contador < 10:\n",
    "    contador += 1\n",
    "    if contador == 1:\n",
    "        continue\n",
    "    print(contador, \" itens limpos\")\n",
    "        \n",
    "print(\"Fim do bloco while\")"
   ]
  }
 ],
 "metadata": {
  "kernelspec": {
   "display_name": "Python 3 (ipykernel)",
   "language": "python",
   "name": "python3"
  },
  "language_info": {
   "codemirror_mode": {
    "name": "ipython",
    "version": 3
   },
   "file_extension": ".py",
   "mimetype": "text/x-python",
   "name": "python",
   "nbconvert_exporter": "python",
   "pygments_lexer": "ipython3",
   "version": "3.9.5"
  }
 },
 "nbformat": 4,
 "nbformat_minor": 5
}
